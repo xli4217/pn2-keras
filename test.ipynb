{
 "cells": [
  {
   "cell_type": "markdown",
   "metadata": {},
   "source": [
    "# Data preparation"
   ]
  },
  {
   "cell_type": "code",
   "execution_count": 5,
   "metadata": {},
   "outputs": [],
   "source": [
    "import os\n",
    "import tensorflow as tf\n",
    "import numpy as np\n",
    "import pickle\n",
    "from glob import glob\n",
    "\n",
    "pkl_data_dir = os.path.join(os.getcwd(), 'data', 'xy_data_pkl')\n",
    "tf_record_data_dir = os.path.join(os.getcwd(), 'data', 'xy_data_tfrecord')"
   ]
  },
  {
   "cell_type": "markdown",
   "metadata": {},
   "source": [
    "# Create synthetic data"
   ]
  },
  {
   "cell_type": "code",
   "execution_count": 4,
   "metadata": {},
   "outputs": [],
   "source": [
    "for i in range(100):\n",
    "    d = {\n",
    "        'start': np.random.rand(1,7),\n",
    "        'goal': np.random.rand(1,7),\n",
    "        'start_cartesian': np.random.rand(1,7),\n",
    "        'goal_cartesian': np.random.rand(1,7),\n",
    "        'voxels': np.random.rand(2048,3),\n",
    "        'planned_result': np.random.rand(5,7),\n",
    "        'planned_result_cartesian': np.random.rand(5,7),\n",
    "        'planned_result_cartesian_interpolated': np.random.rand(11,7),\n",
    "    }\n",
    "    with open(os.path.join(pkl_data_dir, 'data_{}.pkl'.format(i)), 'wb') as f:\n",
    "        pickle.dump(d, f)"
   ]
  },
  {
   "cell_type": "markdown",
   "metadata": {},
   "source": [
    "# Translate pkl data to tfrecord"
   ]
  },
  {
   "cell_type": "code",
   "execution_count": 5,
   "metadata": {},
   "outputs": [],
   "source": [
    "pkl_data_filenames = [fn for fn in glob(os.path.join(pkl_data_dir, '*.pkl'))]\n",
    "\n",
    "def _bytes_feature(value):\n",
    "    value = value.tostring()\n",
    "    return tf.train.Feature(bytes_list=tf.train.BytesList(value=[value]))\n",
    "\n",
    "def data_exampe(d):\n",
    "    feature = {\n",
    "        'start_cartesian': _bytes_feature(d['start_cartesian']),\n",
    "        'start_cartesian_shape': _bytes_feature(np.array(d['start_cartesian'].shape)),\n",
    "        'goal_cartesian': _bytes_feature(d['goal_cartesian']),\n",
    "        'goal_cartesian_shape': _bytes_feature(np.array(d['goal_cartesian'].shape)),\n",
    "        'voxels': _bytes_feature(d['voxels']),\n",
    "        'voxels_shape': _bytes_feature(np.array(d['voxels'].shape)),\n",
    "        'planned_result_cartesian_interpolated': _bytes_feature(d['planned_result_cartesian_interpolated']),\n",
    "        'planned_result_cartesian_interpolated_shape': _bytes_feature(np.array(d['planned_result_cartesian_interpolated'].shape))\n",
    "    }\n",
    "    return tf.train.Example(features=tf.train.Features(feature=feature))\n",
    "\n",
    "with tf.io.TFRecordWriter(os.path.join(tf_record_data_dir, 'data.tfrecord')) as writer: # python_io is io in tf2\n",
    "    for fn, i in zip(pkl_data_filenames, range(len(pkl_data_filenames))):\n",
    "        d = pickle.load(open(fn, 'rb'))\n",
    "        tf_example = data_exampe(d)\n",
    "        writer.write(tf_example.SerializeToString())\n"
   ]
  },
  {
   "cell_type": "markdown",
   "metadata": {},
   "source": [
    "# Read TFRecord data"
   ]
  },
  {
   "cell_type": "code",
   "execution_count": 3,
   "metadata": {},
   "outputs": [
    {
     "name": "stdout",
     "output_type": "stream",
     "text": [
      "/tf/pointnet2/data/xy_data_tfrecord/data.tfrecord\n",
      "<TFRecordDatasetV2 shapes: (), types: tf.string>\n",
      "[0.14059019 0.24450589 0.99172468 0.20344827 0.78783066 0.07847824\n",
      " 0.5018477 ]\n",
      "[0.14059019 0.24450589 0.99172468 0.20344827 0.78783066 0.07847824\n",
      " 0.5018477 ]\n",
      "[0.14059019 0.24450589 0.99172468 0.20344827 0.78783066 0.07847824\n",
      " 0.5018477 ]\n",
      "[0.14059019 0.24450589 0.99172468 0.20344827 0.78783066 0.07847824\n",
      " 0.5018477 ]\n",
      "[0.14059019 0.24450589 0.99172468 0.20344827 0.78783066 0.07847824\n",
      " 0.5018477 ]\n"
     ]
    }
   ],
   "source": [
    "tf_record_data_dir = os.path.join(os.getcwd(), 'data', 'xy_data_tfrecord')\n",
    "#tfrecord_data_filename = [fn for fn in glob(os.path.join(pkl_data_dir, '*.pkl'))]\n",
    "tfrecord_data_filename = os.path.join(tf_record_data_dir, 'data.tfrecord')\n",
    "\n",
    "print(tfrecord_data_filename)\n",
    "raw_dataset = tf.data.TFRecordDataset(tfrecord_data_filename)#.batch(3) \n",
    "print(raw_dataset)\n",
    "\n",
    "\n",
    "feature_description = {\n",
    "    'start_cartesian': tf.io.FixedLenFeature([], tf.string),\n",
    "    'start_cartesian_shape': tf.io.FixedLenFeature([], tf.string),\n",
    "    'goal_cartesian': tf.io.FixedLenFeature([], tf.string),\n",
    "    'goal_cartesian_shape': tf.io.FixedLenFeature([], tf.string),\n",
    "    'voxels': tf.io.FixedLenFeature([], tf.string),\n",
    "    'voxels_shape': tf.io.FixedLenFeature([], tf.string),\n",
    "    'planned_result_cartesian_interpolated': tf.io.FixedLenFeature([], tf.string),\n",
    "    'planned_result_cartesian_interpolated_shape': tf.io.FixedLenFeature([], tf.string),\n",
    "}\n",
    "\n",
    "def _parse_function(example_proto):\n",
    "    return tf.io.parse_single_example(example_proto, feature_description)\n",
    "\n",
    "def _parse_function2(example_proto):\n",
    "    sample = tf.io.parse_single_example(example_proto, feature_description)\n",
    "    return sample\n",
    "\n",
    "parsed_dataset = raw_dataset.map(_parse_function2)\n",
    "\n",
    "\n",
    "for _ in range(5):\n",
    "    parsed_dataset.shuffle(buffer_size=50).batch(3)\n",
    "    itr = parsed_dataset.__iter__()\n",
    "    datapoint = itr.next()\n",
    "    #print(datapoint)\n",
    "    print(np.frombuffer(datapoint['start_cartesian'].numpy(), dtype=np.float64))#     for datapoint, i in zip(parsed_dataset, range(100)):\n",
    "#         if i == 0:\n",
    "#            print(np.frombuffer(datapoint['start_cartesian'].numpy(), dtype=np.float64))\n",
    "#     #start_cartesian = np.frombuffer(datapoint['start_cartesian'].numpy(), dtype=np.float64)\n",
    "    #start_cartesian_shape = np.frombuffer(datapoint['start_cartesian_shape'].numpy(), dtype=np.uint64)\n",
    "    #print(start_cartesian.reshape(start_cartesian_shape))"
   ]
  },
  {
   "cell_type": "markdown",
   "metadata": {},
   "source": [
    "# LSTM Keras Test"
   ]
  },
  {
   "cell_type": "code",
   "execution_count": 1,
   "metadata": {},
   "outputs": [
    {
     "name": "stdout",
     "output_type": "stream",
     "text": [
      "Model: \"model\"\n",
      "__________________________________________________________________________________________________\n",
      "Layer (type)                    Output Shape         Param #     Connected to                     \n",
      "==================================================================================================\n",
      "input_1 (InputLayer)            [(None, None, 10)]   0                                            \n",
      "__________________________________________________________________________________________________\n",
      "input_2 (InputLayer)            [(None, None, 6)]    0                                            \n",
      "__________________________________________________________________________________________________\n",
      "lstm (LSTM)                     [(None, 50), (None,  12200       input_1[0][0]                    \n",
      "__________________________________________________________________________________________________\n",
      "lstm_1 (LSTM)                   [(None, None, 50), ( 11400       input_2[0][0]                    \n",
      "                                                                 lstm[0][1]                       \n",
      "                                                                 lstm[0][2]                       \n",
      "__________________________________________________________________________________________________\n",
      "dense (Dense)                   (None, None, 6)      306         lstm_1[0][0]                     \n",
      "==================================================================================================\n",
      "Total params: 23,906\n",
      "Trainable params: 23,906\n",
      "Non-trainable params: 0\n",
      "__________________________________________________________________________________________________\n"
     ]
    }
   ],
   "source": [
    "import tensorflow.keras as k\n",
    "from IPython.display import SVG\n",
    "\n",
    "encoder_inputs = k.Input(shape=(None, 10))\n",
    "encoder = k.layers.LSTM(50, return_state=True)\n",
    "encoder_outputs, state_h, state_c = encoder(encoder_inputs)\n",
    "encoder_states = [state_h, state_c]\n",
    "\n",
    "decoder_inputs = k.Input(shape=(None, 6))\n",
    "decoder = k.layers.LSTM(50, return_sequences=True, return_state=True)\n",
    "decoder_outputs, _, _ = decoder(decoder_inputs, initial_state=encoder_states)\n",
    "decoder_outputs = k.layers.Dense(6, activation='softmax')(decoder_outputs)\n",
    "\n",
    "model = k.Model([encoder_inputs, decoder_inputs], decoder_outputs)\n",
    "\n",
    "model.compile(optimizer='rmsprop', loss='categorical_crossentropy', metrics=['accuracy'])\n",
    "\n",
    "model.summary()\n"
   ]
  },
  {
   "cell_type": "markdown",
   "metadata": {},
   "source": [
    "# Sandbox"
   ]
  },
  {
   "cell_type": "code",
   "execution_count": 10,
   "metadata": {},
   "outputs": [
    {
     "ename": "ValueError",
     "evalue": "cannot reshape array of size 34 into shape (3,newaxis,6)",
     "output_type": "error",
     "traceback": [
      "\u001b[0;31m---------------------------------------------------------------------------\u001b[0m",
      "\u001b[0;31mValueError\u001b[0m                                Traceback (most recent call last)",
      "\u001b[0;32m<ipython-input-10-ecc612facbd9>\u001b[0m in \u001b[0;36m<module>\u001b[0;34m\u001b[0m\n\u001b[1;32m      1\u001b[0m \u001b[0ma\u001b[0m \u001b[0;34m=\u001b[0m \u001b[0mnp\u001b[0m\u001b[0;34m.\u001b[0m\u001b[0mrandom\u001b[0m\u001b[0;34m.\u001b[0m\u001b[0mrand\u001b[0m\u001b[0;34m(\u001b[0m\u001b[0;36m34\u001b[0m\u001b[0;34m)\u001b[0m\u001b[0;34m\u001b[0m\u001b[0;34m\u001b[0m\u001b[0m\n\u001b[0;32m----> 2\u001b[0;31m \u001b[0ma\u001b[0m\u001b[0;34m.\u001b[0m\u001b[0mreshape\u001b[0m\u001b[0;34m(\u001b[0m\u001b[0;36m3\u001b[0m\u001b[0;34m,\u001b[0m\u001b[0;34m-\u001b[0m\u001b[0;36m1\u001b[0m\u001b[0;34m,\u001b[0m\u001b[0;36m6\u001b[0m\u001b[0;34m)\u001b[0m\u001b[0;34m\u001b[0m\u001b[0;34m\u001b[0m\u001b[0m\n\u001b[0m",
      "\u001b[0;31mValueError\u001b[0m: cannot reshape array of size 34 into shape (3,newaxis,6)"
     ]
    }
   ],
   "source": []
  }
 ],
 "metadata": {
  "kernelspec": {
   "display_name": "Python 3",
   "language": "python",
   "name": "python3"
  },
  "language_info": {
   "codemirror_mode": {
    "name": "ipython",
    "version": 3
   },
   "file_extension": ".py",
   "mimetype": "text/x-python",
   "name": "python",
   "nbconvert_exporter": "python",
   "pygments_lexer": "ipython3",
   "version": "3.6.9"
  }
 },
 "nbformat": 4,
 "nbformat_minor": 4
}
